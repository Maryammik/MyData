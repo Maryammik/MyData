{
 "cells": [
  {
   "cell_type": "markdown",
   "id": "57fee9af",
   "metadata": {},
   "source": [
    "# Calculator"
   ]
  },
  {
   "cell_type": "code",
   "execution_count": 28,
   "id": "a60ccaf1",
   "metadata": {},
   "outputs": [
    {
     "name": "stdout",
     "output_type": "stream",
     "text": [
      "Enter first number-->77\n",
      "Enter second number-->65\n",
      "Enter 1 to add\n",
      "Enter 2 to subtract\n",
      "Enter 3 to multiply\n",
      "Enter 4 to divide \n",
      "-->4\n",
      "1.1846153846153846\n"
     ]
    }
   ],
   "source": [
    "\n",
    "num1 = int(input('Enter first number-->'))\n",
    "num2 = int(input('Enter second number-->'))\n",
    "    \n",
    "req = input('Enter 1 to add\\nEnter 2 to subtract\\nEnter 3 to multiply\\nEnter 4 to divide \\n-->')\n",
    "\n",
    "if req =='1':\n",
    "    print(num1 +num2)\n",
    "elif req =='2':\n",
    "    print(num1-num2)\n",
    "elif req =='3':\n",
    "    print(num1*num2)\n",
    "elif req == '4':\n",
    "    print(num1/num2)\n",
    "else:\n",
    "    print('invalid number')\n",
    "    "
   ]
  },
  {
   "cell_type": "code",
   "execution_count": 7,
   "id": "81c53140",
   "metadata": {},
   "outputs": [],
   "source": [
    "def name():\n",
    "    print('Samuel')"
   ]
  },
  {
   "cell_type": "code",
   "execution_count": 8,
   "id": "66e52ab1",
   "metadata": {},
   "outputs": [
    {
     "name": "stdout",
     "output_type": "stream",
     "text": [
      "Samuel\n"
     ]
    }
   ],
   "source": [
    "name()"
   ]
  },
  {
   "cell_type": "code",
   "execution_count": 9,
   "id": "43fb9915",
   "metadata": {},
   "outputs": [],
   "source": [
    "def name2():\n",
    "    name=input('Type your name-->')\n",
    "    print(f'welcome{name}')"
   ]
  },
  {
   "cell_type": "code",
   "execution_count": 11,
   "id": "3c55b583",
   "metadata": {},
   "outputs": [
    {
     "data": {
      "text/plain": [
       "<function __main__.name2()>"
      ]
     },
     "execution_count": 11,
     "metadata": {},
     "output_type": "execute_result"
    }
   ],
   "source": [
    "name2"
   ]
  },
  {
   "cell_type": "code",
   "execution_count": 30,
   "id": "e2fe86d5",
   "metadata": {},
   "outputs": [],
   "source": [
    "def add():\n",
    "    num1 = int(input('Enter first number-->'))\n",
    "    num2 = int(input('Enter second number-->'))\n",
    "    print(num1 + num2)"
   ]
  },
  {
   "cell_type": "code",
   "execution_count": 34,
   "id": "16d971db",
   "metadata": {},
   "outputs": [
    {
     "ename": "SyntaxError",
     "evalue": "invalid syntax (4131310684.py, line 1)",
     "output_type": "error",
     "traceback": [
      "\u001b[1;36m  Cell \u001b[1;32mIn[34], line 1\u001b[1;36m\u001b[0m\n\u001b[1;33m    def add2(num1 + num2):\u001b[0m\n\u001b[1;37m                  ^\u001b[0m\n\u001b[1;31mSyntaxError\u001b[0m\u001b[1;31m:\u001b[0m invalid syntax\n"
     ]
    }
   ],
   "source": [
    "def add2(num1 + num2):\n",
    "    print(num1 +num2)"
   ]
  },
  {
   "cell_type": "code",
   "execution_count": null,
   "id": "7f05d4a6",
   "metadata": {},
   "outputs": [],
   "source": []
  }
 ],
 "metadata": {
  "kernelspec": {
   "display_name": "Python 3 (ipykernel)",
   "language": "python",
   "name": "python3"
  },
  "language_info": {
   "codemirror_mode": {
    "name": "ipython",
    "version": 3
   },
   "file_extension": ".py",
   "mimetype": "text/x-python",
   "name": "python",
   "nbconvert_exporter": "python",
   "pygments_lexer": "ipython3",
   "version": "3.11.5"
  }
 },
 "nbformat": 4,
 "nbformat_minor": 5
}
